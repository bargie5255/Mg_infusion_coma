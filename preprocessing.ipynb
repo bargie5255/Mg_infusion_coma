{
 "cells": [
  {
   "cell_type": "code",
   "execution_count": null,
   "metadata": {},
   "outputs": [],
   "source": [
    "import numpy as np\n",
    "import mne\n",
    "from mne.preprocessing import ICA\n",
    "import sklearn\n",
    "import matplotlib.pyplot as plt\n",
    "from mne.preprocessing import annotate_muscle_zscore"
   ]
  },
  {
   "cell_type": "code",
   "execution_count": null,
   "metadata": {},
   "outputs": [],
   "source": [
    "# 분석대상 이름 입력\n",
    "name = input(\"분석대상 이름을 입력하세요.\")\n",
    "print(f\"분석대상 이름은 {name}입니다.\")\n",
    "\n",
    "# 분석 목적 입력\n",
    "purpose = input(\"분석 목적을 입력하세요. load와 append 중 입력하세요.\")\n",
    "print(f\"분석 목적은 {purpose}입니다.\")\n",
    "\n",
    "# load 선택 시\n",
    "if purpose == 'load':\n",
    "    print(\"load를 선택하였습니다.\")\n",
    "    # Specify the full path to EEG data file (EDF format)\n",
    "    eeg_file_path = rf'H:\\Mg_EEG\\edf_files\\{name}_7200.EDF'\n",
    "    \n",
    "    # Load EEG data\n",
    "    eeg_data = mne.io.read_raw_edf(eeg_file_path, preload=True)\n",
    "    print(f\"성공적으로 데이터를 불러왔습니다.\")\n",
    "\n",
    "# append 선택 시\n",
    "elif purpose == 'append':\n",
    "    print(\"append를 선택하였습니다.\")\n",
    "    # Specify the full path to EEG data file (EDF format)\n",
    "    eeg_file_path_before = rf'H:\\Mg_EEG\\edf_files\\{name}_before_3600.EDF'\n",
    "    eeg_file_path_after = rf'H:\\Mg_EEG\\edf_files\\{name}_after_3600.EDF'\n",
    "    \n",
    "    # Load EEG data\n",
    "    eeg_data_before = mne.io.read_raw_edf(eeg_file_path_before, preload=True)\n",
    "    eeg_data_after = mne.io.read_raw_edf(eeg_file_path_after, preload=True)\n",
    "    print(f\"성공적으로 데이터를 불러왔습니다.\")\n",
    "\n",
    "    # 3600초 이상의 데이터는 3600초로 자르기\n",
    "    for data in [eeg_data_before, eeg_data_after]:\n",
    "        if len(data) > 3600*200:\n",
    "            data.crop(tmax=3600, include_tmax=False)\n",
    "            print(f\"{data.filenames[0]}: 데이터 길이가 3600초 이상이므로 3600초로 자름.\")\n",
    "        else:\n",
    "            print(f\"{data.filenames[0]}:데이터 길이가 3600초 미만이므로 그대로 사용.\")\n",
    "    \n",
    "    # 데이터 합치기\n",
    "    eeg_data = eeg_data_before.copy()\n",
    "    eeg_data.append(eeg_data_after)\n",
    "    if len(eeg_data) == 7200*200:\n",
    "        print(\"데이터가 성공적으로 합쳐졌습니다.\")\n",
    "    else:\n",
    "        print(\"문제가 발생하였습니다. 확인 바랍니다.\")\n",
    "else:\n",
    "    print(\"올바른 값을 입력하세요.\")"
   ]
  },
  {
   "cell_type": "code",
   "execution_count": null,
   "metadata": {},
   "outputs": [],
   "source": [
    "# 로드한 EEG 확인\n",
    "%matplotlib qt\n",
    "eeg_data.plot()\n",
    "plt.show()\n",
    "\n",
    "eeg_data.info"
   ]
  },
  {
   "cell_type": "code",
   "execution_count": null,
   "metadata": {},
   "outputs": [],
   "source": [
    "# Specify the time range of interest\n",
    "start_time = 0  # Start time in seconds\n",
    "duration = 7200 # 2 hours in seconds\n",
    "end_time = start_time + duration # End time in seconds (2 hours later from start_time)\n",
    "# Mark the time of magnesium infusion\n",
    "time_of_infusion = 3600  # Time of infusion in seconds"
   ]
  },
  {
   "cell_type": "code",
   "execution_count": null,
   "metadata": {},
   "outputs": [],
   "source": [
    "# Crop EEG data\n",
    "# eeg_data_window = eeg_data.copy().crop(tmin=start_time, tmax=7199)\n",
    "eeg_data_window = eeg_data.copy().crop(tmin=start_time, tmax=7168) # only 고정실"
   ]
  },
  {
   "cell_type": "code",
   "execution_count": null,
   "metadata": {},
   "outputs": [],
   "source": [
    "# Notch filter apply\n",
    "eeg_data_window.notch_filter(freqs=[60])"
   ]
  },
  {
   "cell_type": "code",
   "execution_count": null,
   "metadata": {},
   "outputs": [],
   "source": [
    "print(eeg_data_window.ch_names)"
   ]
  },
  {
   "cell_type": "code",
   "execution_count": null,
   "metadata": {},
   "outputs": [],
   "source": [
    "# 표준화된 채널명이 아닌 경우 이를 찾고 변경\n",
    "\n",
    "eeg_data_trans = eeg_data_window.copy()\n",
    "\n",
    "eeg_data_trans.drop_channels(eeg_data_window.ch_names[18:])\n",
    "\n",
    "eeg_data_trans_ch_names = eeg_data_trans.ch_names\n",
    "\n",
    "ch_names_answer = ['Fp1-F3', 'F3-C3', 'C3-P3', 'P3-O1', \n",
    "                'Fp2-F4', 'F4-C4', 'C4-P4', 'P4-O2', \n",
    "                'Fp1-F7', 'F7-T3', 'T3-T5', 'T5-O1', \n",
    "                'Fp2-F8', 'F8-T4', 'T4-T6', 'T6-O2', \n",
    "                'Fz-Cz', 'Cz-Pz']\n",
    "\n",
    "# 차이점을 저장할 딕셔너리 초기화\n",
    "channel_mapping = {}\n",
    "\n",
    "# 리스트 길이만큼 반복\n",
    "for i in range(len(eeg_data_trans_ch_names)):\n",
    "    if eeg_data_trans_ch_names[i] != ch_names_answer[i]:\n",
    "        # 차이가 있는 경우, 해당 인덱스의 값을 딕셔너리에 저장\n",
    "        channel_mapping[eeg_data_trans_ch_names[i]] = ch_names_answer[i]\n",
    "\n",
    "# 결과 출력\n",
    "print(channel_mapping)\n",
    "\n",
    "# 채널명 변경\n",
    "eeg_data_trans.rename_channels(channel_mapping)"
   ]
  },
  {
   "cell_type": "code",
   "execution_count": null,
   "metadata": {},
   "outputs": [],
   "source": [
    "# bipolar channel을 monopolar로 변경\n",
    "\n",
    "# Step 1: Identify your current bipolar channels\n",
    "# This is an example, adjust according to your actual channel names\n",
    "bipolar_chs = ['Fp1-F3', 'F3-C3', 'C3-P3', 'P3-O1', \n",
    "                'Fp2-F4', 'F4-C4', 'C4-P4', 'P4-O2', \n",
    "                'Fp1-F7', 'F7-T3', 'T3-T5', 'T5-O1', \n",
    "                'Fp2-F8', 'F8-T4', 'T4-T6', 'T6-O2', \n",
    "                'Fz-Cz', 'Cz-Pz']\n",
    "\n",
    "# Step 2: Create a list of monopolar electrode names\n",
    "monopolar_chs = ['Fp1', 'F3', 'C3', 'P3', 'O1',\n",
    "                 'Fp2', 'F4', 'C4', 'P4', 'O2',\n",
    "                 'F7', 'T3', 'T4', 'T5', 'T6', 'F8',\n",
    "                 'Fz', 'Cz', 'Pz']\n",
    "\n",
    "# Step 3: Create a transformation matrix\n",
    "n_bipolar = len(bipolar_chs)\n",
    "n_monopolar = len(monopolar_chs)\n",
    "transform_mat = np.zeros((n_monopolar, n_bipolar))\n",
    "\n",
    "for i, mono_ch in enumerate(monopolar_chs):\n",
    "    for j, bi_ch in enumerate(bipolar_chs):\n",
    "        if mono_ch in bi_ch.split('-'):\n",
    "            if mono_ch == bi_ch.split('-')[0]:\n",
    "                transform_mat[i, j] = 1\n",
    "            else:\n",
    "                transform_mat[i, j] = -1\n",
    "\n",
    "# Step 4: Apply the transformation\n",
    "data = eeg_data_trans.get_data()\n",
    "monopolar_data = np.dot(transform_mat, data)\n",
    "\n",
    "# Create a new Raw object with the monopolar data\n",
    "info = mne.create_info(ch_names=monopolar_chs, sfreq=eeg_data_trans.info['sfreq'], ch_types='eeg')\n",
    "eeg_data_monopolar = mne.io.RawArray(monopolar_data, info)\n",
    "\n",
    "# Step 5: Set the new monopolar montage\n",
    "montage = mne.channels.make_standard_montage('standard_1020')\n",
    "eeg_data_monopolar.set_montage(montage)\n",
    "\n",
    "# Now you have a new Raw object with monopolar data in the 10-20 system"
   ]
  },
  {
   "cell_type": "code",
   "execution_count": null,
   "metadata": {},
   "outputs": [],
   "source": [
    "%matplotlib qt\n",
    "eeg_data.plot()\n",
    "plt.show()\n",
    "\n",
    "print(eeg_data_window.ch_names)"
   ]
  },
  {
   "cell_type": "code",
   "execution_count": null,
   "metadata": {},
   "outputs": [],
   "source": [
    "# 위에서 채널명과 채널 상태 확인해서 직접 옵션 선택해야 함. \n",
    "\n",
    "ecg_eog_data_window = eeg_data_window.get_data([18, 19, 20])\n",
    "#ecg_eog_data_window = eeg_data_window.get_data([18, 19])\n",
    "\n",
    "new_info = mne.create_info(\n",
    "    ch_names=['ECG', 'EOG1', 'EOG2'],\n",
    "    sfreq=eeg_data_window.info['sfreq'],\n",
    "    ch_types=['ecg', 'eog', 'eog']\n",
    ")\n",
    "\n",
    "ecg_eog_raw = mne.io.RawArray(ecg_eog_data_window, new_info)\n",
    "\n",
    "eeg_data_monopolar.add_channels([ecg_eog_raw], force_update_info=True)\n",
    "\n",
    "print(eeg_data_monopolar.ch_names)"
   ]
  },
  {
   "cell_type": "code",
   "execution_count": null,
   "metadata": {},
   "outputs": [],
   "source": [
    "# Detecting artifact by ICA\n",
    "ica = ICA(n_components=15, random_state=42)\n",
    "ica.fit(eeg_data_monopolar)"
   ]
  },
  {
   "cell_type": "code",
   "execution_count": null,
   "metadata": {},
   "outputs": [],
   "source": [
    "# ECG detecting\n",
    "ecg_idx, ecg_scores = ica.find_bads_ecg(eeg_data_monopolar)\n",
    "# EOG detecting\n",
    "eog_idx, eog_scores = ica.find_bads_eog(eeg_data_monopolar)\n",
    "# muscle detecting\n",
    "muscle_idx, muscle_scores = ica.find_bads_muscle(eeg_data_monopolar)\n",
    "\n",
    "artifact_idx = list(set(ecg_idx + eog_idx + muscle_idx))\n",
    "#artifact_idx = list(set(eog_idx + muscle_idx))\n",
    "#artifact_idx = list(set(muscle_idx))\n",
    "eeg_data_clean = eeg_data_monopolar.copy()\n",
    "ica.apply(eeg_data_clean, exclude=artifact_idx)"
   ]
  },
  {
   "cell_type": "code",
   "execution_count": null,
   "metadata": {},
   "outputs": [],
   "source": [
    "# Bandpass filters\n",
    "eeg_data_clean.filter(l_freq=0.1, h_freq=30)"
   ]
  },
  {
   "cell_type": "code",
   "execution_count": null,
   "metadata": {},
   "outputs": [],
   "source": [
    "# artifact 제거된 plot 확인\n",
    "eeg_data_clean.plot()"
   ]
  },
  {
   "cell_type": "code",
   "execution_count": null,
   "metadata": {},
   "outputs": [],
   "source": [
    "# EEG 채널만 남기기\n",
    "eeg_data_clean.drop_channels(eeg_data_clean.ch_names[19:])"
   ]
  },
  {
   "cell_type": "code",
   "execution_count": null,
   "metadata": {},
   "outputs": [],
   "source": [
    "# eeg_data_clean.save(rf'H:\\Mg_EEG\\edf_files\\{name}2_7200_clean.fif', overwrite=False)\n",
    "eeg_data_clean.save(rf'H:\\Mg_EEG\\edf_files\\{name}_7200_clean.fif', overwrite=True) #overwrite 필요할 때만 시행"
   ]
  }
 ],
 "metadata": {
  "kernelspec": {
   "display_name": "Python 3",
   "language": "python",
   "name": "python3"
  },
  "language_info": {
   "codemirror_mode": {
    "name": "ipython",
    "version": 3
   },
   "file_extension": ".py",
   "mimetype": "text/x-python",
   "name": "python",
   "nbconvert_exporter": "python",
   "pygments_lexer": "ipython3",
   "version": "3.12.4"
  }
 },
 "nbformat": 4,
 "nbformat_minor": 2
}

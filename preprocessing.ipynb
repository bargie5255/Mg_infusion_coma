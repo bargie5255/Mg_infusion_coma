{
 "cells": [
  {
   "cell_type": "code",
   "execution_count": 1,
   "metadata": {},
   "outputs": [],
   "source": [
    "import numpy as np\n",
    "import mne\n",
    "from mne.preprocessing import ICA\n",
    "import sklearn\n",
    "import matplotlib.pyplot as plt\n",
    "from mne.preprocessing import annotate_muscle_zscore"
   ]
  },
  {
   "cell_type": "code",
   "execution_count": 4,
   "metadata": {},
   "outputs": [
    {
     "name": "stdout",
     "output_type": "stream",
     "text": [
      "분석대상 이름은 정금례입니다.\n",
      "Extracting EDF parameters from H:\\Mg_EEG\\edf_files\\정금례_7200.EDF...\n",
      "EDF file detected\n",
      "Setting channel info structure...\n",
      "Creating raw.info structure...\n",
      "Reading 0 ... 1440599  =      0.000 ...  7202.995 secs...\n",
      "성공적으로 데이터를 불러왔습니다.\n"
     ]
    }
   ],
   "source": [
    "# 분석대상 이름 입력\n",
    "name = input(\"분석대상 이름을 입력하세요.\")\n",
    "print(f\"분석대상 이름은 {name}입니다.\")\n",
    "\n",
    "# Specify the full path to EEG data file (EDF format)\n",
    "eeg_file_path = rf'H:\\Mg_EEG\\edf_files\\{name}_7200.EDF'\n",
    "\n",
    "# Load EEG data\n",
    "eeg_data = mne.io.read_raw_edf(eeg_file_path, preload=True)\n",
    "print(f\"성공적으로 데이터를 불러왔습니다.\")"
   ]
  },
  {
   "cell_type": "code",
   "execution_count": 5,
   "metadata": {},
   "outputs": [
    {
     "name": "stdout",
     "output_type": "stream",
     "text": [
      "Channels marked as bad:\n",
      "['EOGL-A1', 'EKG1-EKG2']\n"
     ]
    }
   ],
   "source": [
    "%matplotlib qt\n",
    "eeg_data.plot()\n",
    "plt.show()"
   ]
  },
  {
   "cell_type": "code",
   "execution_count": null,
   "metadata": {},
   "outputs": [],
   "source": [
    "eeg_data.info"
   ]
  },
  {
   "cell_type": "code",
   "execution_count": 5,
   "metadata": {},
   "outputs": [],
   "source": [
    "# Specify the time range of interest\n",
    "start_time = 0  # Start time in seconds\n",
    "duration = 7200 # 2 hours in seconds\n",
    "end_time = start_time + duration # End time in seconds (2 hours later from start_time)\n",
    "# Mark the time of magnesium infusion\n",
    "time_of_infusion = 3600  # Time of infusion in seconds"
   ]
  },
  {
   "cell_type": "code",
   "execution_count": 6,
   "metadata": {},
   "outputs": [],
   "source": [
    "# Crop EEG data\n",
    "eeg_data_window = eeg_data.copy().crop(tmin=start_time, tmax=7199)"
   ]
  },
  {
   "cell_type": "code",
   "execution_count": null,
   "metadata": {},
   "outputs": [],
   "source": [
    "# Notch filter apply\n",
    "eeg_data_window.notch_filter(freqs=[60])"
   ]
  },
  {
   "cell_type": "code",
   "execution_count": null,
   "metadata": {},
   "outputs": [],
   "source": [
    "print(eeg_data_window.ch_names)"
   ]
  },
  {
   "cell_type": "code",
   "execution_count": null,
   "metadata": {},
   "outputs": [],
   "source": [
    "eeg_data_trans = eeg_data_window.copy()\n",
    "\n",
    "eeg_data_trans.drop_channels(eeg_data_window.ch_names[18:])\n",
    "\n",
    "eeg_data_trans_ch_names = eeg_data_trans.ch_names\n",
    "\n",
    "ch_names_answer = ['Fp1-F3', 'F3-C3', 'C3-P3', 'P3-O1', \n",
    "                'Fp2-F4', 'F4-C4', 'C4-P4', 'P4-O2', \n",
    "                'Fp1-F7', 'F7-T3', 'T3-T5', 'T5-O1', \n",
    "                'Fp2-F8', 'F8-T4', 'T4-T6', 'T6-O2', \n",
    "                'Fz-Cz', 'Cz-Pz']\n",
    "\n",
    "# 차이점을 저장할 딕셔너리 초기화\n",
    "channel_mapping = {}\n",
    "\n",
    "# 리스트 길이만큼 반복\n",
    "for i in range(len(eeg_data_trans_ch_names)):\n",
    "    if eeg_data_trans_ch_names[i] != ch_names_answer[i]:\n",
    "        # 차이가 있는 경우, 해당 인덱스의 값을 딕셔너리에 저장\n",
    "        channel_mapping[eeg_data_trans_ch_names[i]] = ch_names_answer[i]\n",
    "\n",
    "# 결과 출력\n",
    "print(channel_mapping)"
   ]
  },
  {
   "cell_type": "code",
   "execution_count": null,
   "metadata": {},
   "outputs": [],
   "source": [
    "eeg_data_trans.rename_channels(channel_mapping)"
   ]
  },
  {
   "cell_type": "code",
   "execution_count": null,
   "metadata": {},
   "outputs": [],
   "source": [
    "# Step 1: Identify your current bipolar channels\n",
    "# This is an example, adjust according to your actual channel names\n",
    "bipolar_chs = ['Fp1-F3', 'F3-C3', 'C3-P3', 'P3-O1', \n",
    "                'Fp2-F4', 'F4-C4', 'C4-P4', 'P4-O2', \n",
    "                'Fp1-F7', 'F7-T3', 'T3-T5', 'T5-O1', \n",
    "                'Fp2-F8', 'F8-T4', 'T4-T6', 'T6-O2', \n",
    "                'Fz-Cz', 'Cz-Pz']\n",
    "\n",
    "# Step 2: Create a list of monopolar electrode names\n",
    "monopolar_chs = ['Fp1', 'F3', 'C3', 'P3', 'O1',\n",
    "                 'Fp2', 'F4', 'C4', 'P4', 'O2',\n",
    "                 'F7', 'T3', 'T4', 'T5', 'T6', 'F8',\n",
    "                 'Fz', 'Cz', 'Pz']\n",
    "\n",
    "# Step 3: Create a transformation matrix\n",
    "n_bipolar = len(bipolar_chs)\n",
    "n_monopolar = len(monopolar_chs)\n",
    "transform_mat = np.zeros((n_monopolar, n_bipolar))\n",
    "\n",
    "for i, mono_ch in enumerate(monopolar_chs):\n",
    "    for j, bi_ch in enumerate(bipolar_chs):\n",
    "        if mono_ch in bi_ch.split('-'):\n",
    "            if mono_ch == bi_ch.split('-')[0]:\n",
    "                transform_mat[i, j] = 1\n",
    "            else:\n",
    "                transform_mat[i, j] = -1\n",
    "\n",
    "# Step 4: Apply the transformation\n",
    "data = eeg_data_trans.get_data()\n",
    "monopolar_data = np.dot(transform_mat, data)\n",
    "\n",
    "# Create a new Raw object with the monopolar data\n",
    "info = mne.create_info(ch_names=monopolar_chs, sfreq=eeg_data_trans.info['sfreq'], ch_types='eeg')\n",
    "eeg_data_monopolar = mne.io.RawArray(monopolar_data, info)\n",
    "\n",
    "# Step 5: Set the new monopolar montage\n",
    "montage = mne.channels.make_standard_montage('standard_1020')\n",
    "eeg_data_monopolar.set_montage(montage)\n",
    "\n",
    "# Now you have a new Raw object with monopolar data in the 10-20 system"
   ]
  },
  {
   "cell_type": "code",
   "execution_count": null,
   "metadata": {},
   "outputs": [],
   "source": [
    "ecg_eog_data_window = eeg_data_window.get_data([18, 19, 20])\n",
    "#ecg_eog_data_window = eeg_data_window.get_data([18, 19])\n",
    "\n",
    "new_info = mne.create_info(\n",
    "    ch_names=['ECG', 'EOG1', 'EOG2'],\n",
    "    sfreq=eeg_data_window.info['sfreq'],\n",
    "    ch_types=['ecg', 'eog', 'eog']\n",
    ")\n",
    "\n",
    "ecg_eog_raw = mne.io.RawArray(ecg_eog_data_window, new_info)\n",
    "\n",
    "eeg_data_monopolar.add_channels([ecg_eog_raw], force_update_info=True)\n",
    "\n",
    "print(eeg_data_monopolar.ch_names)"
   ]
  },
  {
   "cell_type": "code",
   "execution_count": null,
   "metadata": {},
   "outputs": [],
   "source": [
    "eeg_data_monopolar.plot()"
   ]
  },
  {
   "cell_type": "code",
   "execution_count": null,
   "metadata": {},
   "outputs": [],
   "source": [
    "# Detecting artifact by ICA\n",
    "ica = ICA(n_components=15, random_state=42)\n",
    "ica.fit(eeg_data_monopolar)"
   ]
  },
  {
   "cell_type": "code",
   "execution_count": null,
   "metadata": {},
   "outputs": [],
   "source": [
    "# ECG detecting\n",
    "ecg_idx, ecg_scores = ica.find_bads_ecg(eeg_data_monopolar)\n",
    "# EOG detecting\n",
    "eog_idx, eog_scores = ica.find_bads_eog(eeg_data_monopolar)\n",
    "# muscle detecting\n",
    "muscle_idx, muscle_scores = ica.find_bads_muscle(eeg_data_monopolar)\n",
    "\n",
    "artifact_idx = list(set(ecg_idx + eog_idx + muscle_idx))\n",
    "#artifact_idx = list(set(eog_idx + muscle_idx))\n",
    "#artifact_idx = list(set(muscle_idx))\n",
    "eeg_data_clean = eeg_data_monopolar.copy()\n",
    "ica.apply(eeg_data_clean, exclude=artifact_idx)"
   ]
  },
  {
   "cell_type": "code",
   "execution_count": null,
   "metadata": {},
   "outputs": [],
   "source": [
    "# Bandpass filters\n",
    "eeg_data_clean.filter(l_freq=0.1, h_freq=30)"
   ]
  },
  {
   "cell_type": "code",
   "execution_count": null,
   "metadata": {},
   "outputs": [],
   "source": [
    "eeg_data_clean.plot()"
   ]
  },
  {
   "cell_type": "code",
   "execution_count": null,
   "metadata": {},
   "outputs": [],
   "source": [
    "eeg_data_clean.drop_channels(eeg_data_clean.ch_names[19:])"
   ]
  },
  {
   "cell_type": "code",
   "execution_count": null,
   "metadata": {},
   "outputs": [],
   "source": [
    "eeg_data_clean.save(r'H:\\Mg_EEG\\edf_files\\김득실_7200_clean.fif', overwrite=False)\n",
    "#eeg_data_clean.save(r'H:\\Mg_EEG\\edf_files\\김득실_7200_clean.fif', overwrite=True) #overwrite 필요할 때만 시행"
   ]
  }
 ],
 "metadata": {
  "kernelspec": {
   "display_name": "Python 3",
   "language": "python",
   "name": "python3"
  },
  "language_info": {
   "codemirror_mode": {
    "name": "ipython",
    "version": 3
   },
   "file_extension": ".py",
   "mimetype": "text/x-python",
   "name": "python",
   "nbconvert_exporter": "python",
   "pygments_lexer": "ipython3",
   "version": "3.12.4"
  }
 },
 "nbformat": 4,
 "nbformat_minor": 2
}

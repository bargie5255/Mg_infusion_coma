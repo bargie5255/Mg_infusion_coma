{
 "cells": [
  {
   "cell_type": "code",
   "execution_count": 1,
   "metadata": {},
   "outputs": [],
   "source": [
    "import mne\n",
    "import matplotlib.pyplot as plt"
   ]
  },
  {
   "cell_type": "code",
   "execution_count": 26,
   "metadata": {},
   "outputs": [
    {
     "name": "stdout",
     "output_type": "stream",
     "text": [
      "분석대상 이름은 정복연_after_3600입니다.\n",
      "Extracting EDF parameters from H:\\Mg_EEG\\edf_files\\정복연_after_3600.EDF...\n",
      "EDF file detected\n",
      "Setting channel info structure...\n",
      "Creating raw.info structure...\n",
      "성공적으로 데이터를 불러왔습니다.\n"
     ]
    }
   ],
   "source": [
    "# 분석대상 이름 입력\n",
    "name = input(\"분석대상 이름을 입력하세요.\")\n",
    "print(f\"분석대상 이름은 {name}입니다.\")\n",
    "\n",
    "# Specify the full path to EEG data file (EDF format)\n",
    "eeg_file_path = rf'H:\\Mg_EEG\\edf_files\\{name}.EDF'\n",
    "    \n",
    "# Load EEG data\n",
    "eeg_data = mne.io.read_raw_edf(eeg_file_path, preload=False)\n",
    "print(f\"성공적으로 데이터를 불러왔습니다.\")"
   ]
  },
  {
   "cell_type": "code",
   "execution_count": 27,
   "metadata": {},
   "outputs": [
    {
     "name": "stdout",
     "output_type": "stream",
     "text": [
      "Channels marked as bad:\n",
      "none\n",
      "Channels marked as bad:\n",
      "none\n"
     ]
    }
   ],
   "source": [
    "%matplotlib qt\n",
    "eeg_data.plot()\n",
    "plt.show()"
   ]
  }
 ],
 "metadata": {
  "kernelspec": {
   "display_name": "Python 3",
   "language": "python",
   "name": "python3"
  },
  "language_info": {
   "codemirror_mode": {
    "name": "ipython",
    "version": 3
   },
   "file_extension": ".py",
   "mimetype": "text/x-python",
   "name": "python",
   "nbconvert_exporter": "python",
   "pygments_lexer": "ipython3",
   "version": "3.12.4"
  }
 },
 "nbformat": 4,
 "nbformat_minor": 2
}

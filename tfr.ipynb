{
 "cells": [
  {
   "cell_type": "code",
   "execution_count": null,
   "metadata": {},
   "outputs": [],
   "source": [
    "# 분석대상 이름 입력\n",
    "name = input(\"분석대상 이름을 입력하세요.\")\n",
    "max_freq = int(input(\"분석할 최대 주파수를 입력하시오\")) + 1\n",
    "bad_channels_name = input(\"제거할 채널 이름을 입력하세요. 없으면 enter를 누르세요.\")\n",
    "\n",
    "# TFR 시행\n",
    "print(f\"{name}의 TFR을 시행하겠습니다.\")\n",
    "# fif 파일 불러오기\n",
    "file_path = rf'H:\\Mg_EEG\\edf_files\\{name}_7200_clean.fif'\n",
    "clean_data = mne.io.read_raw_fif(file_path, preload=True)\n",
    "print(f\"{name}의 fif 파일을 성공적으로 불러왔습니다: {file_path}\")\n",
    "    \n",
    "# Delete data for a specific channel\n",
    "if bad_channels_name:\n",
    "    bad_channels_list = [channel.strip() for channel in bad_channels_name.split(',')]\n",
    "    clean_data.drop_channels(bad_channels_list)\n",
    "    \n",
    "# Computing TFR\n",
    "print(f\"{max_freq}Hz까지의 TFR을 계산 중 입니다.\")\n",
    "tfr = clean_data.compute_tfr(method='multitaper', freqs=np.arange(1, max_freq), tmin=0, tmax=7199, n_jobs=-1, reject_by_annotation=False)\n",
    "print(f\"{name}의 TFR 계산이 완료되었습니다.\")"
   ]
  },
  {
   "cell_type": "code",
   "execution_count": null,
   "metadata": {},
   "outputs": [],
   "source": [
    "# 상황에 맞게 이름 및 경로 설정하여 사용하기\n",
    "\n",
    "# Saving TFR file\n",
    "saving_path = rf'H:\\Mg_EEG\\tfr_files\\{name}_7200_tfr.h5'\n",
    "tfr.save(saving_path, overwrite=False)\n",
    "print(f\"TFR 파일이 성공적으로 저장되었습니다.\")\n",
    "\n",
    "# # Saving TFR file\n",
    "# saving_path = rf'H:\\Mg_EEG\\tfr_files\\{name}gamma_7200_tfr.h5'\n",
    "# tfr.save(saving_path, overwrite=False)\n",
    "# print(f\"TFR 파일이 성공적으로 저장되었습니다.\")"
   ]
  }
 ],
 "metadata": {
  "kernelspec": {
   "display_name": "Python 3",
   "language": "python",
   "name": "python3"
  },
  "language_info": {
   "codemirror_mode": {
    "name": "ipython",
    "version": 3
   },
   "file_extension": ".py",
   "mimetype": "text/x-python",
   "name": "python",
   "nbconvert_exporter": "python",
   "pygments_lexer": "ipython3",
   "version": "3.12.4"
  }
 },
 "nbformat": 4,
 "nbformat_minor": 2
}
